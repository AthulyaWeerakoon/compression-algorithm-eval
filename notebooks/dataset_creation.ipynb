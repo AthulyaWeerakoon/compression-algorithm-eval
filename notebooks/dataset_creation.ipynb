{
 "cells": [
  {
   "cell_type": "code",
   "execution_count": 10,
   "id": "315ff1bb",
   "metadata": {},
   "outputs": [],
   "source": [
    "import numpy as np\n",
    "import pandas as pd"
   ]
  },
  {
   "cell_type": "code",
   "execution_count": 11,
   "id": "5fcbb7a6",
   "metadata": {},
   "outputs": [
    {
     "name": "stdout",
     "output_type": "stream",
     "text": [
      "          Timestamp   W/m² Solar Radiation   mm Precipitation  \\\n",
      "0  28/02/2024 11:15                  813.9                0.0   \n",
      "1  28/02/2024 11:30                  822.7                0.0   \n",
      "2  28/02/2024 11:45                  807.9                0.0   \n",
      "3  28/02/2024 12:00                  979.4                0.0   \n",
      "4  28/02/2024 12:15                  891.5                0.0   \n",
      "5  28/02/2024 12:30                  585.1                0.0   \n",
      "6  28/02/2024 12:45                  805.1                0.0   \n",
      "7  28/02/2024 13:00                  803.9                0.0   \n",
      "8  28/02/2024 13:15                  839.7                0.0   \n",
      "9  28/02/2024 13:30                  786.8                0.0   \n",
      "\n",
      "    Lightning Activity   km Lightning Distance  ° Wind Direction  \\\n",
      "0                  0.0                     0.0              81.0   \n",
      "1                  0.0                     0.0              71.0   \n",
      "2                  0.0                     0.0              68.0   \n",
      "3                  0.0                     0.0              64.0   \n",
      "4                  0.0                     0.0              79.0   \n",
      "5                  0.0                     0.0              61.0   \n",
      "6                  0.0                     0.0              72.0   \n",
      "7                  0.0                     0.0              61.0   \n",
      "8                  0.0                     0.0              67.0   \n",
      "9                  0.0                     0.0              68.0   \n",
      "\n",
      "    m/s Wind Speed   m/s Gust Speed   °C Air Temperature  \\\n",
      "0             3.43             7.37                 30.5   \n",
      "1             3.22             7.15                 30.5   \n",
      "2             2.72             6.35                 30.7   \n",
      "3             2.78             7.03                 31.1   \n",
      "4             3.80             6.71                 30.8   \n",
      "5             2.41             5.30                 30.2   \n",
      "6             3.22             6.31                 30.6   \n",
      "7             2.41             4.07                 30.8   \n",
      "8             3.61             7.46                 30.9   \n",
      "9             3.16             7.54                 30.6   \n",
      "\n",
      "    RH Relative Humidity  ...   m³/m³ Water Content.1   °C Soil Temperature.1  \\\n",
      "0                  0.615  ...                   0.023                    40.5   \n",
      "1                  0.613  ...                   0.048                    36.9   \n",
      "2                  0.612  ...                   0.022                    39.0   \n",
      "3                  0.600  ...                   0.011                    46.0   \n",
      "4                  0.591  ...                   0.010                    49.7   \n",
      "5                  0.621  ...                   0.011                    46.4   \n",
      "6                  0.597  ...                   0.011                    46.8   \n",
      "7                  0.594  ...                   0.111                    41.0   \n",
      "8                  0.586  ...                   0.124                    36.3   \n",
      "9                  0.591  ...                   0.124                    34.9   \n",
      "\n",
      "    mS/cm Bulk EC.1   m³/m³ Water Content.2   °C Soil Temperature.2  \\\n",
      "0             0.000                   0.009                    41.2   \n",
      "1             0.000                   0.007                    43.2   \n",
      "2             0.000                   0.007                    42.1   \n",
      "3             0.000                   0.007                    44.6   \n",
      "4             0.000                   0.006                    46.9   \n",
      "5             0.000                   0.007                    43.9   \n",
      "6             0.000                   0.007                    44.0   \n",
      "7             0.008                   0.104                    39.5   \n",
      "8             0.008                   0.120                    35.7   \n",
      "9             0.008                   0.120                    34.8   \n",
      "\n",
      "    mS/cm Bulk EC.2  % Battery Percent   mV Battery Voltage  \\\n",
      "0             0.000                100                 7910   \n",
      "1             0.000                100                 7930   \n",
      "2             0.000                100                 7938   \n",
      "3             0.000                100                 7960   \n",
      "4             0.000                100                 7963   \n",
      "5             0.000                100                 7972   \n",
      "6             0.000                100                 7985   \n",
      "7             0.007                100                 8041   \n",
      "8             0.008                100                 8034   \n",
      "9             0.009                100                 8042   \n",
      "\n",
      "    kPa Reference Pressure   °C Logger Temperature  \n",
      "0                   100.65                    34.0  \n",
      "1                   100.63                    33.6  \n",
      "2                   100.63                    35.1  \n",
      "3                   100.62                    34.5  \n",
      "4                   100.60                    34.4  \n",
      "5                   100.57                    33.6  \n",
      "6                   100.54                    33.4  \n",
      "7                   100.50                    33.6  \n",
      "8                   100.49                    34.3  \n",
      "9                   100.47                    33.7  \n",
      "\n",
      "[10 rows x 28 columns]\n"
     ]
    }
   ],
   "source": [
    "AriviyalN_Data = pd.read_csv(r\"..\\datasets\\AriviyalN_Data.csv\", skiprows=2)\n",
    "print(AriviyalN_Data.head(10))"
   ]
  },
  {
   "cell_type": "code",
   "execution_count": 12,
   "id": "2503ce97",
   "metadata": {},
   "outputs": [
    {
     "name": "stdout",
     "output_type": "stream",
     "text": [
      "Index(['Timestamp', ' W/m² Solar Radiation', ' mm Precipitation',\n",
      "       ' Lightning Activity', ' km Lightning Distance', '° Wind Direction',\n",
      "       ' m/s Wind Speed', ' m/s Gust Speed', ' °C Air Temperature',\n",
      "       ' RH Relative Humidity', ' kPa Atmospheric Pressure', '° X-axis Level',\n",
      "       '° Y-axis Level', ' mm/h Max Precip Rate', ' °C RH Sensor Temp',\n",
      "       ' m³/m³ Water Content', ' °C Soil Temperature', ' mS/cm Bulk EC',\n",
      "       ' m³/m³ Water Content.1', ' °C Soil Temperature.1', ' mS/cm Bulk EC.1',\n",
      "       ' m³/m³ Water Content.2', ' °C Soil Temperature.2', ' mS/cm Bulk EC.2',\n",
      "       '% Battery Percent', ' mV Battery Voltage', ' kPa Reference Pressure',\n",
      "       ' °C Logger Temperature'],\n",
      "      dtype='object')\n"
     ]
    }
   ],
   "source": [
    "print(AriviyalN_Data.columns)"
   ]
  },
  {
   "cell_type": "code",
   "execution_count": 13,
   "id": "a79c0575",
   "metadata": {},
   "outputs": [
    {
     "data": {
      "text/plain": [
       "Timestamp                      0\n",
       " W/m² Solar Radiation          1\n",
       " mm Precipitation              1\n",
       " Lightning Activity            1\n",
       " km Lightning Distance         1\n",
       "° Wind Direction             860\n",
       " m/s Wind Speed              860\n",
       " m/s Gust Speed              860\n",
       " °C Air Temperature            1\n",
       " RH Relative Humidity          1\n",
       " kPa Atmospheric Pressure      1\n",
       "° X-axis Level                 1\n",
       "° Y-axis Level                 1\n",
       " mm/h Max Precip Rate          1\n",
       " °C RH Sensor Temp             1\n",
       " m³/m³ Water Content           1\n",
       " °C Soil Temperature           1\n",
       " mS/cm Bulk EC                 1\n",
       " m³/m³ Water Content.1         2\n",
       " °C Soil Temperature.1         2\n",
       " mS/cm Bulk EC.1               2\n",
       " m³/m³ Water Content.2         1\n",
       " °C Soil Temperature.2         1\n",
       " mS/cm Bulk EC.2               1\n",
       "% Battery Percent              0\n",
       " mV Battery Voltage            0\n",
       " kPa Reference Pressure        0\n",
       " °C Logger Temperature         0\n",
       "dtype: int64"
      ]
     },
     "execution_count": 13,
     "metadata": {},
     "output_type": "execute_result"
    }
   ],
   "source": [
    "AriviyalN_Data.isnull().sum()"
   ]
  },
  {
   "cell_type": "markdown",
   "id": "6bae91ea",
   "metadata": {},
   "source": [
    "#### Remove the null values"
   ]
  },
  {
   "cell_type": "code",
   "execution_count": 14,
   "id": "e86eb007",
   "metadata": {},
   "outputs": [
    {
     "name": "stderr",
     "output_type": "stream",
     "text": [
      "C:\\Users\\DELL\\AppData\\Local\\Temp\\ipykernel_10528\\2943816838.py:1: FutureWarning: DataFrame.fillna with 'method' is deprecated and will raise in a future version. Use obj.ffill() or obj.bfill() instead.\n",
      "  AriviyalN_Data =AriviyalN_Data.fillna(method=\"ffill\").fillna(method=\"bfill\")\n"
     ]
    },
    {
     "data": {
      "text/plain": [
       "Timestamp                    0\n",
       " W/m² Solar Radiation        0\n",
       " mm Precipitation            0\n",
       " Lightning Activity          0\n",
       " km Lightning Distance       0\n",
       "° Wind Direction             0\n",
       " m/s Wind Speed              0\n",
       " m/s Gust Speed              0\n",
       " °C Air Temperature          0\n",
       " RH Relative Humidity        0\n",
       " kPa Atmospheric Pressure    0\n",
       "° X-axis Level               0\n",
       "° Y-axis Level               0\n",
       " mm/h Max Precip Rate        0\n",
       " °C RH Sensor Temp           0\n",
       " m³/m³ Water Content         0\n",
       " °C Soil Temperature         0\n",
       " mS/cm Bulk EC               0\n",
       " m³/m³ Water Content.1       0\n",
       " °C Soil Temperature.1       0\n",
       " mS/cm Bulk EC.1             0\n",
       " m³/m³ Water Content.2       0\n",
       " °C Soil Temperature.2       0\n",
       " mS/cm Bulk EC.2             0\n",
       "% Battery Percent            0\n",
       " mV Battery Voltage          0\n",
       " kPa Reference Pressure      0\n",
       " °C Logger Temperature       0\n",
       "dtype: int64"
      ]
     },
     "execution_count": 14,
     "metadata": {},
     "output_type": "execute_result"
    }
   ],
   "source": [
    "AriviyalN_Data =AriviyalN_Data.fillna(method=\"ffill\").fillna(method=\"bfill\")\n",
    "AriviyalN_Data.isnull().sum()"
   ]
  },
  {
   "cell_type": "markdown",
   "id": "760b74ae",
   "metadata": {},
   "source": [
    "### Create a AriviyalN_Data_Air_Temperature dataset"
   ]
  },
  {
   "cell_type": "code",
   "execution_count": 15,
   "id": "5c94dcd4",
   "metadata": {},
   "outputs": [
    {
     "name": "stderr",
     "output_type": "stream",
     "text": [
      "C:\\Users\\DELL\\AppData\\Local\\Temp\\ipykernel_10528\\3523499704.py:2: SettingWithCopyWarning: \n",
      "A value is trying to be set on a copy of a slice from a DataFrame\n",
      "\n",
      "See the caveats in the documentation: https://pandas.pydata.org/pandas-docs/stable/user_guide/indexing.html#returning-a-view-versus-a-copy\n",
      "  AriviyalN_Data_Air_Temperature.rename(columns={\" °C Air Temperature\" : \"Air Temperature\"},inplace=True)\n"
     ]
    }
   ],
   "source": [
    "AriviyalN_Data_Air_Temperature = AriviyalN_Data[[\"Timestamp\", \" °C Air Temperature\"]]\n",
    "AriviyalN_Data_Air_Temperature.rename(columns={\" °C Air Temperature\" : \"Air Temperature\"},inplace=True)"
   ]
  },
  {
   "cell_type": "code",
   "execution_count": 16,
   "id": "72199f16",
   "metadata": {},
   "outputs": [],
   "source": [
    "AriviyalN_Data_Air_Temperature.to_csv(r\"../datasets/AriviyalN_Data_Air_Temperature.csv\", index=False)"
   ]
  },
  {
   "cell_type": "markdown",
   "id": "82b5d10b",
   "metadata": {},
   "source": [
    "### Create a AriviyalN_Data_Wind_Direction dataset"
   ]
  },
  {
   "cell_type": "code",
   "execution_count": 17,
   "id": "82244354",
   "metadata": {},
   "outputs": [
    {
     "name": "stderr",
     "output_type": "stream",
     "text": [
      "C:\\Users\\DELL\\AppData\\Local\\Temp\\ipykernel_10528\\848028504.py:2: SettingWithCopyWarning: \n",
      "A value is trying to be set on a copy of a slice from a DataFrame\n",
      "\n",
      "See the caveats in the documentation: https://pandas.pydata.org/pandas-docs/stable/user_guide/indexing.html#returning-a-view-versus-a-copy\n",
      "  AriviyalN_Data_Wind_Direction.rename(columns={\"° Wind Direction\" : \"Wind Direction\"},inplace=True)\n"
     ]
    }
   ],
   "source": [
    "AriviyalN_Data_Wind_Direction= AriviyalN_Data[[\"Timestamp\", \"° Wind Direction\"]]\n",
    "AriviyalN_Data_Wind_Direction.rename(columns={\"° Wind Direction\" : \"Wind Direction\"},inplace=True)"
   ]
  },
  {
   "cell_type": "code",
   "execution_count": 18,
   "id": "ba525543",
   "metadata": {},
   "outputs": [],
   "source": [
    "AriviyalN_Data_Wind_Direction.to_csv(r\"../datasets/AriviyalN_Data_Wind_Direction.csv\", index=False)"
   ]
  }
 ],
 "metadata": {
  "kernelspec": {
   "display_name": ".venv",
   "language": "python",
   "name": "python3"
  },
  "language_info": {
   "codemirror_mode": {
    "name": "ipython",
    "version": 3
   },
   "file_extension": ".py",
   "mimetype": "text/x-python",
   "name": "python",
   "nbconvert_exporter": "python",
   "pygments_lexer": "ipython3",
   "version": "3.12.7"
  }
 },
 "nbformat": 4,
 "nbformat_minor": 5
}
